{
  "nbformat": 4,
  "nbformat_minor": 0,
  "metadata": {
    "colab": {
      "name": "Assignment 4.1 RNN Model.ipynb",
      "provenance": []
    },
    "kernelspec": {
      "name": "python3",
      "display_name": "Python 3"
    },
    "language_info": {
      "name": "python"
    }
  },
  "cells": [
    {
      "cell_type": "markdown",
      "metadata": {
        "id": "kro8EHYEJdS7"
      },
      "source": [
        "So, here l will predict the stock price of Facebook.  Therefore,  will try to  predict the upward/downward trends in the Facebook stock price.\n",
        "\n",
        "To predict the stock price, a \"stacked\" LSTM model will be utilized to capture the upward/downward trends in the facebook stock price. \n",
        "\n"
      ]
    },
    {
      "cell_type": "code",
      "execution_count": 35,
      "metadata": {
        "id": "QUv9VkcX94cT"
      },
      "outputs": [],
      "source": [
        "#Import Libraries\n",
        "import math\n",
        "import numpy as np\n",
        "import keras\n",
        "import matplotlib.pyplot as plt\n",
        "import pandas as pd\n"
      ]
    },
    {
      "cell_type": "markdown",
      "source": [
        "Import Training Dataset\n"
      ],
      "metadata": {
        "id": "QfNXShaxFUD0"
      }
    },
    {
      "cell_type": "code",
      "source": [
        "#Load driver helper and mount\n",
        "from google.colab import drive\n",
        "#This will prompt for authorization\n",
        "drive.mount('/content/drive')"
      ],
      "metadata": {
        "colab": {
          "base_uri": "https://localhost:8080/"
        },
        "id": "HT2XQXb59-rx",
        "outputId": "ac1e508c-a1aa-4cab-855e-e27aa962d15b"
      },
      "execution_count": 36,
      "outputs": [
        {
          "output_type": "stream",
          "name": "stdout",
          "text": [
            "Drive already mounted at /content/drive; to attempt to forcibly remount, call drive.mount(\"/content/drive\", force_remount=True).\n"
          ]
        }
      ]
    },
    {
      "cell_type": "code",
      "source": [
        "train_dataset = pd.read_csv('/content/drive/My Drive/MetaData/META.csv')\n",
        "train_set = train_dataset.iloc[:,1:2].values\n",
        "print(train_set[0:5])\n"
      ],
      "metadata": {
        "colab": {
          "base_uri": "https://localhost:8080/"
        },
        "id": "4O_NZMIpBMxw",
        "outputId": "456dda2f-4723-43c8-cf8e-27f1c94c0659"
      },
      "execution_count": 37,
      "outputs": [
        {
          "output_type": "stream",
          "name": "stdout",
          "text": [
            "[[338.799988]\n",
            " [341.5     ]\n",
            " [346.679993]\n",
            " [360.910004]\n",
            " [369.579987]]\n"
          ]
        }
      ]
    },
    {
      "cell_type": "markdown",
      "source": [
        "Scale Features\n"
      ],
      "metadata": {
        "id": "qJp5fJdPBxFd"
      }
    },
    {
      "cell_type": "code",
      "source": [
        "from sklearn.preprocessing import MinMaxScaler\n",
        "sc = MinMaxScaler(feature_range = (0,1))\n",
        "train_set_scaled = sc.fit_transform(train_set)\n",
        "print(train_set_scaled[0:5])"
      ],
      "metadata": {
        "colab": {
          "base_uri": "https://localhost:8080/"
        },
        "id": "qDCs7fnuBvSJ",
        "outputId": "cde15c8c-e235-4e55-c350-2ff86e66428f"
      },
      "execution_count": 38,
      "outputs": [
        {
          "output_type": "stream",
          "name": "stdout",
          "text": [
            "[[0.80976883]\n",
            " [0.82174706]\n",
            " [0.84472738]\n",
            " [0.90785684]\n",
            " [0.94632001]]\n"
          ]
        }
      ]
    },
    {
      "cell_type": "code",
      "source": [
        "train_index = train_set.shape[0]\n",
        "print(train_index)"
      ],
      "metadata": {
        "colab": {
          "base_uri": "https://localhost:8080/"
        },
        "id": "5Ksc4wU5B5J5",
        "outputId": "31414fc7-4857-4f7c-f805-fff624eed203"
      },
      "execution_count": 39,
      "outputs": [
        {
          "output_type": "stream",
          "name": "stdout",
          "text": [
            "253\n"
          ]
        }
      ]
    },
    {
      "cell_type": "markdown",
      "source": [
        "Construct a data structure encompassing 60 timesteps\n",
        "and one output\n"
      ],
      "metadata": {
        "id": "5fWcPtO5CAYI"
      }
    },
    {
      "cell_type": "code",
      "source": [
        "X_train = []\n",
        "y_train = []\n",
        "for i in range (30, train_index):\n",
        " X_train.append(train_set_scaled[i-30:i,0])\n",
        " y_train.append(train_set_scaled[i,0])\n",
        "X_train, y_train = np.array(X_train), np.array(y_train)\n"
      ],
      "metadata": {
        "id": "B3J4nrAWB81P"
      },
      "execution_count": 40,
      "outputs": []
    },
    {
      "cell_type": "markdown",
      "source": [
        "Shape data to serve as input to the LSTM model\n"
      ],
      "metadata": {
        "id": "x9zENKW-CFtl"
      }
    },
    {
      "cell_type": "code",
      "source": [
        "X_train = np.reshape(X_train, (X_train.shape[0], X_train.shape[1], 1))\n",
        "X_train.shape"
      ],
      "metadata": {
        "colab": {
          "base_uri": "https://localhost:8080/"
        },
        "id": "rbOlplYMCEyz",
        "outputId": "902f2738-880b-4ebb-a864-ccbe8f519bf8"
      },
      "execution_count": 41,
      "outputs": [
        {
          "output_type": "execute_result",
          "data": {
            "text/plain": [
              "(223, 30, 1)"
            ]
          },
          "metadata": {},
          "execution_count": 41
        }
      ]
    },
    {
      "cell_type": "markdown",
      "source": [
        "Construct the LSTM model\n"
      ],
      "metadata": {
        "id": "fdtxM2mnCQyG"
      }
    },
    {
      "cell_type": "code",
      "source": [
        "#Importing the Keras libraries and packages\n",
        "from keras.models import Sequential\n",
        "from keras.layers import Dense\n",
        "from keras.layers import LSTM\n",
        "from keras.layers import Dropout\n",
        "from keras.layers import *\n",
        "#Regressor_model is an object of a sequential class which is a sequence\n",
        " #of layers\n",
        "#Regression is about predicting continuous values\n",
        "Regressor_model = Sequential()"
      ],
      "metadata": {
        "id": "mkN2k7WMCd_P"
      },
      "execution_count": 42,
      "outputs": []
    },
    {
      "cell_type": "markdown",
      "source": [
        "Add first LSTM layer with dropout regularization"
      ],
      "metadata": {
        "id": "EDFRA5z4CrIM"
      }
    },
    {
      "cell_type": "code",
      "source": [
        "#Adding the first LSTM layer with dropout regularization\n",
        "Regressor_model.add(LSTM(units = 50, return_sequences = True, input_shape=(X_train.shape[1],1)))\n",
        "Regressor_model.add(Dropout(0.2))\n"
      ],
      "metadata": {
        "id": "x92SkzXmOxb9"
      },
      "execution_count": 47,
      "outputs": []
    },
    {
      "cell_type": "markdown",
      "source": [
        "Add second LSTM layer with dropout regularization"
      ],
      "metadata": {
        "id": "_Vuq-lkcQRYu"
      }
    },
    {
      "cell_type": "code",
      "source": [
        "#Add second LSTM layer with dropout regularization\n",
        "Regressor_model.add(LSTM(units = 50, return_sequences = True))\n",
        "Regressor_model.add(Dropout(0.2))"
      ],
      "metadata": {
        "id": "Z4rdQrgaCpQy"
      },
      "execution_count": 48,
      "outputs": []
    },
    {
      "cell_type": "markdown",
      "source": [
        "Add third LSTM layer with dropout regularization"
      ],
      "metadata": {
        "id": "6anktggFC4YL"
      }
    },
    {
      "cell_type": "code",
      "source": [
        "#Add third LSTM layer with dropout regularization\n",
        "Regressor_model.add(LSTM(units = 50, return_sequences = True))\n",
        "Regressor_model.add(Dropout(0.2))"
      ],
      "metadata": {
        "id": "sxKlKXP7C6hh"
      },
      "execution_count": 49,
      "outputs": []
    },
    {
      "cell_type": "markdown",
      "source": [
        "Add fourth LSTM layer with dropout regularization"
      ],
      "metadata": {
        "id": "GqGLai3GC_ui"
      }
    },
    {
      "cell_type": "code",
      "source": [
        "#Add fourth LSTM layer with dropout regularization\n",
        "Regressor_model.add(LSTM(units = 50))\n",
        "Regressor_model.add(Dropout(0.2))"
      ],
      "metadata": {
        "id": "OYuOOj-DC9tA"
      },
      "execution_count": 50,
      "outputs": []
    },
    {
      "cell_type": "markdown",
      "source": [
        "Add Output Layer"
      ],
      "metadata": {
        "id": "BqymhALRDHBG"
      }
    },
    {
      "cell_type": "code",
      "source": [
        "Regressor_model.add(Dense(units = 1))"
      ],
      "metadata": {
        "id": "k0fZebruDEzl"
      },
      "execution_count": 51,
      "outputs": []
    },
    {
      "cell_type": "markdown",
      "source": [
        "Compile the LSTM model"
      ],
      "metadata": {
        "id": "HBlWTISuDNnR"
      }
    },
    {
      "cell_type": "code",
      "source": [
        "#Compile the LSTM model\n",
        "Regressor_model.compile(optimizer = 'Adam', loss = 'mean_squared_error')"
      ],
      "metadata": {
        "id": "tdwkE7kdDSAM"
      },
      "execution_count": 52,
      "outputs": []
    },
    {
      "cell_type": "markdown",
      "source": [
        "Train the LSTM model\n"
      ],
      "metadata": {
        "id": "zkJM-ROZDYZs"
      }
    },
    {
      "cell_type": "code",
      "source": [
        "#Training the LSTM model\n",
        "Regressor_model.fit(X_train, y_train, epochs = 100, batch_size = 32)"
      ],
      "metadata": {
        "colab": {
          "base_uri": "https://localhost:8080/"
        },
        "id": "6EDQYnUvDc3q",
        "outputId": "9bd1fa0b-edb5-448b-b594-99b6c9e03cb4"
      },
      "execution_count": 53,
      "outputs": [
        {
          "output_type": "stream",
          "name": "stdout",
          "text": [
            "Epoch 1/100\n",
            "7/7 [==============================] - 9s 80ms/step - loss: 0.1774\n",
            "Epoch 2/100\n",
            "7/7 [==============================] - 1s 84ms/step - loss: 0.0534\n",
            "Epoch 3/100\n",
            "7/7 [==============================] - 1s 82ms/step - loss: 0.0443\n",
            "Epoch 4/100\n",
            "7/7 [==============================] - 1s 85ms/step - loss: 0.0273\n",
            "Epoch 5/100\n",
            "7/7 [==============================] - 1s 81ms/step - loss: 0.0236\n",
            "Epoch 6/100\n",
            "7/7 [==============================] - 1s 87ms/step - loss: 0.0198\n",
            "Epoch 7/100\n",
            "7/7 [==============================] - 1s 81ms/step - loss: 0.0223\n",
            "Epoch 8/100\n",
            "7/7 [==============================] - 1s 85ms/step - loss: 0.0178\n",
            "Epoch 9/100\n",
            "7/7 [==============================] - 1s 84ms/step - loss: 0.0176\n",
            "Epoch 10/100\n",
            "7/7 [==============================] - 1s 87ms/step - loss: 0.0184\n",
            "Epoch 11/100\n",
            "7/7 [==============================] - 1s 94ms/step - loss: 0.0171\n",
            "Epoch 12/100\n",
            "7/7 [==============================] - 1s 84ms/step - loss: 0.0215\n",
            "Epoch 13/100\n",
            "7/7 [==============================] - 1s 83ms/step - loss: 0.0180\n",
            "Epoch 14/100\n",
            "7/7 [==============================] - 1s 84ms/step - loss: 0.0216\n",
            "Epoch 15/100\n",
            "7/7 [==============================] - 1s 82ms/step - loss: 0.0168\n",
            "Epoch 16/100\n",
            "7/7 [==============================] - 1s 83ms/step - loss: 0.0173\n",
            "Epoch 17/100\n",
            "7/7 [==============================] - 1s 81ms/step - loss: 0.0175\n",
            "Epoch 18/100\n",
            "7/7 [==============================] - 1s 84ms/step - loss: 0.0156\n",
            "Epoch 19/100\n",
            "7/7 [==============================] - 1s 84ms/step - loss: 0.0161\n",
            "Epoch 20/100\n",
            "7/7 [==============================] - 1s 82ms/step - loss: 0.0147\n",
            "Epoch 21/100\n",
            "7/7 [==============================] - 1s 83ms/step - loss: 0.0132\n",
            "Epoch 22/100\n",
            "7/7 [==============================] - 1s 79ms/step - loss: 0.0148\n",
            "Epoch 23/100\n",
            "7/7 [==============================] - 1s 87ms/step - loss: 0.0130\n",
            "Epoch 24/100\n",
            "7/7 [==============================] - 1s 82ms/step - loss: 0.0151\n",
            "Epoch 25/100\n",
            "7/7 [==============================] - 1s 83ms/step - loss: 0.0138\n",
            "Epoch 26/100\n",
            "7/7 [==============================] - 1s 88ms/step - loss: 0.0153\n",
            "Epoch 27/100\n",
            "7/7 [==============================] - 1s 80ms/step - loss: 0.0148\n",
            "Epoch 28/100\n",
            "7/7 [==============================] - 1s 84ms/step - loss: 0.0172\n",
            "Epoch 29/100\n",
            "7/7 [==============================] - 1s 80ms/step - loss: 0.0173\n",
            "Epoch 30/100\n",
            "7/7 [==============================] - 1s 85ms/step - loss: 0.0159\n",
            "Epoch 31/100\n",
            "7/7 [==============================] - 1s 82ms/step - loss: 0.0151\n",
            "Epoch 32/100\n",
            "7/7 [==============================] - 1s 84ms/step - loss: 0.0138\n",
            "Epoch 33/100\n",
            "7/7 [==============================] - 1s 83ms/step - loss: 0.0124\n",
            "Epoch 34/100\n",
            "7/7 [==============================] - 1s 82ms/step - loss: 0.0130\n",
            "Epoch 35/100\n",
            "7/7 [==============================] - 1s 82ms/step - loss: 0.0124\n",
            "Epoch 36/100\n",
            "7/7 [==============================] - 1s 82ms/step - loss: 0.0120\n",
            "Epoch 37/100\n",
            "7/7 [==============================] - 1s 81ms/step - loss: 0.0100\n",
            "Epoch 38/100\n",
            "7/7 [==============================] - 1s 83ms/step - loss: 0.0106\n",
            "Epoch 39/100\n",
            "7/7 [==============================] - 1s 84ms/step - loss: 0.0114\n",
            "Epoch 40/100\n",
            "7/7 [==============================] - 1s 88ms/step - loss: 0.0102\n",
            "Epoch 41/100\n",
            "7/7 [==============================] - 1s 86ms/step - loss: 0.0122\n",
            "Epoch 42/100\n",
            "7/7 [==============================] - 1s 88ms/step - loss: 0.0111\n",
            "Epoch 43/100\n",
            "7/7 [==============================] - 1s 87ms/step - loss: 0.0105\n",
            "Epoch 44/100\n",
            "7/7 [==============================] - 1s 83ms/step - loss: 0.0102\n",
            "Epoch 45/100\n",
            "7/7 [==============================] - 1s 82ms/step - loss: 0.0100\n",
            "Epoch 46/100\n",
            "7/7 [==============================] - 1s 80ms/step - loss: 0.0101\n",
            "Epoch 47/100\n",
            "7/7 [==============================] - 1s 81ms/step - loss: 0.0100\n",
            "Epoch 48/100\n",
            "7/7 [==============================] - 1s 84ms/step - loss: 0.0105\n",
            "Epoch 49/100\n",
            "7/7 [==============================] - 1s 84ms/step - loss: 0.0092\n",
            "Epoch 50/100\n",
            "7/7 [==============================] - 1s 84ms/step - loss: 0.0096\n",
            "Epoch 51/100\n",
            "7/7 [==============================] - 1s 83ms/step - loss: 0.0099\n",
            "Epoch 52/100\n",
            "7/7 [==============================] - 1s 84ms/step - loss: 0.0096\n",
            "Epoch 53/100\n",
            "7/7 [==============================] - 1s 83ms/step - loss: 0.0093\n",
            "Epoch 54/100\n",
            "7/7 [==============================] - 1s 83ms/step - loss: 0.0098\n",
            "Epoch 55/100\n",
            "7/7 [==============================] - 1s 84ms/step - loss: 0.0105\n",
            "Epoch 56/100\n",
            "7/7 [==============================] - 1s 83ms/step - loss: 0.0102\n",
            "Epoch 57/100\n",
            "7/7 [==============================] - 1s 100ms/step - loss: 0.0090\n",
            "Epoch 58/100\n",
            "7/7 [==============================] - 1s 83ms/step - loss: 0.0082\n",
            "Epoch 59/100\n",
            "7/7 [==============================] - 1s 85ms/step - loss: 0.0083\n",
            "Epoch 60/100\n",
            "7/7 [==============================] - 1s 82ms/step - loss: 0.0089\n",
            "Epoch 61/100\n",
            "7/7 [==============================] - 1s 83ms/step - loss: 0.0097\n",
            "Epoch 62/100\n",
            "7/7 [==============================] - 1s 80ms/step - loss: 0.0086\n",
            "Epoch 63/100\n",
            "7/7 [==============================] - 1s 82ms/step - loss: 0.0090\n",
            "Epoch 64/100\n",
            "7/7 [==============================] - 1s 84ms/step - loss: 0.0094\n",
            "Epoch 65/100\n",
            "7/7 [==============================] - 1s 84ms/step - loss: 0.0091\n",
            "Epoch 66/100\n",
            "7/7 [==============================] - 1s 81ms/step - loss: 0.0087\n",
            "Epoch 67/100\n",
            "7/7 [==============================] - 1s 81ms/step - loss: 0.0083\n",
            "Epoch 68/100\n",
            "7/7 [==============================] - 1s 84ms/step - loss: 0.0078\n",
            "Epoch 69/100\n",
            "7/7 [==============================] - 1s 83ms/step - loss: 0.0082\n",
            "Epoch 70/100\n",
            "7/7 [==============================] - 1s 84ms/step - loss: 0.0120\n",
            "Epoch 71/100\n",
            "7/7 [==============================] - 1s 81ms/step - loss: 0.0116\n",
            "Epoch 72/100\n",
            "7/7 [==============================] - 1s 93ms/step - loss: 0.0100\n",
            "Epoch 73/100\n",
            "7/7 [==============================] - 1s 84ms/step - loss: 0.0087\n",
            "Epoch 74/100\n",
            "7/7 [==============================] - 1s 80ms/step - loss: 0.0085\n",
            "Epoch 75/100\n",
            "7/7 [==============================] - 1s 89ms/step - loss: 0.0081\n",
            "Epoch 76/100\n",
            "7/7 [==============================] - 1s 82ms/step - loss: 0.0089\n",
            "Epoch 77/100\n",
            "7/7 [==============================] - 1s 85ms/step - loss: 0.0081\n",
            "Epoch 78/100\n",
            "7/7 [==============================] - 1s 81ms/step - loss: 0.0073\n",
            "Epoch 79/100\n",
            "7/7 [==============================] - 1s 81ms/step - loss: 0.0082\n",
            "Epoch 80/100\n",
            "7/7 [==============================] - 1s 84ms/step - loss: 0.0088\n",
            "Epoch 81/100\n",
            "7/7 [==============================] - 1s 81ms/step - loss: 0.0082\n",
            "Epoch 82/100\n",
            "7/7 [==============================] - 1s 86ms/step - loss: 0.0076\n",
            "Epoch 83/100\n",
            "7/7 [==============================] - 1s 85ms/step - loss: 0.0076\n",
            "Epoch 84/100\n",
            "7/7 [==============================] - 1s 84ms/step - loss: 0.0085\n",
            "Epoch 85/100\n",
            "7/7 [==============================] - 1s 86ms/step - loss: 0.0084\n",
            "Epoch 86/100\n",
            "7/7 [==============================] - 1s 83ms/step - loss: 0.0083\n",
            "Epoch 87/100\n",
            "7/7 [==============================] - 1s 96ms/step - loss: 0.0085\n",
            "Epoch 88/100\n",
            "7/7 [==============================] - 1s 92ms/step - loss: 0.0075\n",
            "Epoch 89/100\n",
            "7/7 [==============================] - 1s 98ms/step - loss: 0.0076\n",
            "Epoch 90/100\n",
            "7/7 [==============================] - 1s 88ms/step - loss: 0.0078\n",
            "Epoch 91/100\n",
            "7/7 [==============================] - 1s 91ms/step - loss: 0.0082\n",
            "Epoch 92/100\n",
            "7/7 [==============================] - 1s 86ms/step - loss: 0.0081\n",
            "Epoch 93/100\n",
            "7/7 [==============================] - 1s 82ms/step - loss: 0.0071\n",
            "Epoch 94/100\n",
            "7/7 [==============================] - 1s 86ms/step - loss: 0.0068\n",
            "Epoch 95/100\n",
            "7/7 [==============================] - 1s 82ms/step - loss: 0.0077\n",
            "Epoch 96/100\n",
            "7/7 [==============================] - 1s 82ms/step - loss: 0.0079\n",
            "Epoch 97/100\n",
            "7/7 [==============================] - 1s 86ms/step - loss: 0.0113\n",
            "Epoch 98/100\n",
            "7/7 [==============================] - 1s 83ms/step - loss: 0.0078\n",
            "Epoch 99/100\n",
            "7/7 [==============================] - 1s 85ms/step - loss: 0.0074\n",
            "Epoch 100/100\n",
            "7/7 [==============================] - 1s 114ms/step - loss: 0.0090\n"
          ]
        },
        {
          "output_type": "execute_result",
          "data": {
            "text/plain": [
              "<keras.callbacks.History at 0x7fa460908310>"
            ]
          },
          "metadata": {},
          "execution_count": 53
        }
      ]
    },
    {
      "cell_type": "markdown",
      "source": [
        "Predict Meta stock price"
      ],
      "metadata": {
        "id": "lPQ0qvnkD_3a"
      }
    },
    {
      "cell_type": "markdown",
      "source": [
        "Retrieve Meta Stock price and assign it to test_dataset\n"
      ],
      "metadata": {
        "id": "Oq6CZCXqEGPH"
      }
    },
    {
      "cell_type": "code",
      "source": [
        "test_dataset = pd.read_csv('/content/drive/My Drive/MetaData/META.csv')\n",
        "actual_stock_price = test_dataset.iloc[:,1:2].values\n",
        "print(actual_stock_price[0:5])\n"
      ],
      "metadata": {
        "colab": {
          "base_uri": "https://localhost:8080/"
        },
        "id": "tZB78iFPEIFo",
        "outputId": "86f3bead-a86e-4337-88df-6b018f03775a"
      },
      "execution_count": 32,
      "outputs": [
        {
          "output_type": "stream",
          "name": "stdout",
          "text": [
            "[[338.799988]\n",
            " [341.5     ]\n",
            " [346.679993]\n",
            " [360.910004]\n",
            " [369.579987]]\n"
          ]
        }
      ]
    },
    {
      "cell_type": "markdown",
      "source": [
        "Making the Predictions"
      ],
      "metadata": {
        "id": "zkides-PEdkH"
      }
    },
    {
      "cell_type": "code",
      "source": [
        "dataset_combined = pd.concat((train_dataset['Open'],test_dataset['Open'\n",
        "]), axis = 0)\n",
        "#this provides the requisite data i.e. 60 previous stock prices prior to\n",
        "#the first financial day\n",
        "inputs = dataset_combined[len(dataset_combined) - len(test_dataset) - 30\n",
        ":].values\n",
        "#Reshape the input into an array with one column\n",
        "inputs = inputs.reshape(-1,1)\n",
        "#Scale the 'Open' prices\n",
        "inputs = sc.transform(inputs)\n",
        "print(inputs.shape)\n"
      ],
      "metadata": {
        "colab": {
          "base_uri": "https://localhost:8080/"
        },
        "id": "V8RgBuMdEcm_",
        "outputId": "1d28be55-6eb3-427c-b26b-770daea0bb08"
      },
      "execution_count": 54,
      "outputs": [
        {
          "output_type": "stream",
          "name": "stdout",
          "text": [
            "(283, 1)\n"
          ]
        }
      ]
    },
    {
      "cell_type": "code",
      "source": [
        "#Initialize with an empty list\n",
        "X_test = []\n",
        "#X_test will contain the 60 previous stock prices and corresponding price T\n",
        "\n",
        "for i in range (30, 281):\n",
        " X_test.append(inputs[i-30:i, 0])\n",
        "#Convert the list into an array\n",
        "X_test = np.array(X_test)\n",
        "X_test = np.reshape(X_test, (X_test.shape[0],X_test.shape[1], 1))\n",
        "#Make the prediction\n",
        "predicted_stock_price = Regressor_model.predict(X_test)\n",
        "#To get the original scale of these scaled predicted values, the inverse\n",
        "#transform method is applied to the scaled sc subject\n",
        "predicted_stock_price = sc.inverse_transform(predicted_stock_price)\n",
        "#print(predicted_stock_price.shape)"
      ],
      "metadata": {
        "id": "Abn1VShTEp_k"
      },
      "execution_count": 29,
      "outputs": []
    },
    {
      "cell_type": "markdown",
      "source": [
        "Visualizing The Results"
      ],
      "metadata": {
        "id": "Z8mOHPKHQr4t"
      }
    },
    {
      "cell_type": "code",
      "source": [
        "fig, ax = plt.subplots(figsize=(16,8))\n",
        "ax.set_facecolor('#000042')\n",
        "ax.plot(actual_stock_price, color='red', label='Original Price')\n",
        "plt.plot(predicted_stock_price, color='purple', label='Predicted Price')\n",
        "plt.title('META Stock Price Prediction')\n",
        "plt.xlabel('Time')\n",
        "plt.ylabel('META Stock Price')\n",
        "plt.legend()\n",
        "plt.show()\n"
      ],
      "metadata": {
        "colab": {
          "base_uri": "https://localhost:8080/",
          "height": 490
        },
        "id": "sYvsL5C1E7h7",
        "outputId": "50c7cc6b-c578-45ca-82c7-a5a3e4acd09b"
      },
      "execution_count": 55,
      "outputs": [
        {
          "output_type": "display_data",
          "data": {
            "text/plain": [
              "<Figure size 1152x576 with 1 Axes>"
            ],
            "image/png": "[encoded data removed]"
          },
          "metadata": {
            "needs_background": "light"
          }
        }
      ]
    },
    {
      "cell_type": "markdown",
      "source": [
        "Conclusion"
      ],
      "metadata": {
        "id": "tKFnqWAWLyFg"
      }
    },
    {
      "cell_type": "markdown",
      "source": [
        "So to sum up,I observe that actual_stock_price and Predicted Facebook Stock Price , it shows that Predicted values started with higher than actual values but at the end the values are almost prediciting similar, I see that model performed very good. It is able to accurately\n",
        "follow most of the unexcepted jumps/drops however, for the most recent date\n",
        "stamps, we can see that the model expected (predicted) lower values compared\n",
        "to the real values of the stock price. In order to get a better fit used 30 timestamps in my model.However, For upward or downward spikes, the model is slow to react properly to fast, non-linear changes. However from an overall perspective,I observe that the model performed pretty good of following the upward and downward trends.\n"
      ],
      "metadata": {
        "id": "ivTCJgT-FCKu"
      }
    }
  ]
}